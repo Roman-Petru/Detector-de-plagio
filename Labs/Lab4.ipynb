{
 "cells": [
  {
   "cell_type": "code",
   "execution_count": 5,
   "id": "76f625db-ed45-4b07-8e3d-016a786aed7c",
   "metadata": {},
   "outputs": [],
   "source": [
    "import nltk"
   ]
  },
  {
   "cell_type": "code",
   "execution_count": 6,
   "id": "571a4d15-25fe-4c88-bd69-4b4031671c9b",
   "metadata": {},
   "outputs": [
    {
     "name": "stdout",
     "output_type": "stream",
     "text": [
      "showing info https://raw.githubusercontent.com/nltk/nltk_data/gh-pages/index.xml\n"
     ]
    },
    {
     "data": {
      "text/plain": [
       "True"
      ]
     },
     "execution_count": 6,
     "metadata": {},
     "output_type": "execute_result"
    }
   ],
   "source": [
    "nltk.download()"
   ]
  },
  {
   "cell_type": "code",
   "execution_count": 7,
   "id": "0bfe6f74-6b59-486a-a9eb-1f87c69d0d1b",
   "metadata": {},
   "outputs": [
    {
     "name": "stdout",
     "output_type": "stream",
     "text": [
      "*** Introductory Examples for the NLTK Book ***\n",
      "Loading text1, ..., text9 and sent1, ..., sent9\n",
      "Type the name of the text or sentence to view it.\n",
      "Type: 'texts()' or 'sents()' to list the materials.\n",
      "text1: Moby Dick by Herman Melville 1851\n",
      "text2: Sense and Sensibility by Jane Austen 1811\n",
      "text3: The Book of Genesis\n",
      "text4: Inaugural Address Corpus\n",
      "text5: Chat Corpus\n",
      "text6: Monty Python and the Holy Grail\n",
      "text7: Wall Street Journal\n",
      "text8: Personals Corpus\n",
      "text9: The Man Who Was Thursday by G . K . Chesterton 1908\n"
     ]
    }
   ],
   "source": [
    "from nltk.book import *"
   ]
  },
  {
   "cell_type": "code",
   "execution_count": 3,
   "id": "2aaf7855-76e0-4bf4-861d-70ff7ec0358a",
   "metadata": {},
   "outputs": [],
   "source": [
    "from nltk.corpus import wordnet as wn"
   ]
  },
  {
   "cell_type": "code",
   "execution_count": 4,
   "id": "06685f6a-cf0a-4daa-9a4e-5a42baf6e685",
   "metadata": {},
   "outputs": [
    {
     "data": {
      "text/plain": [
       "[Synset('dog.n.01'),\n",
       " Synset('frump.n.01'),\n",
       " Synset('dog.n.03'),\n",
       " Synset('cad.n.01'),\n",
       " Synset('frank.n.02'),\n",
       " Synset('pawl.n.01'),\n",
       " Synset('andiron.n.01'),\n",
       " Synset('chase.v.01')]"
      ]
     },
     "execution_count": 4,
     "metadata": {},
     "output_type": "execute_result"
    }
   ],
   "source": [
    "wn.synsets('dog')"
   ]
  },
  {
   "cell_type": "code",
   "execution_count": 10,
   "id": "94701618-c221-4b56-8e78-11c648263d3e",
   "metadata": {},
   "outputs": [
    {
     "data": {
      "text/plain": [
       "[Synset('chase.v.01')]"
      ]
     },
     "execution_count": 10,
     "metadata": {},
     "output_type": "execute_result"
    }
   ],
   "source": [
    "wn.synsets('dog', pos=wn.VERB)"
   ]
  },
  {
   "cell_type": "code",
   "execution_count": 12,
   "id": "9f608a30-e4f8-491e-b5d9-882f84e493ea",
   "metadata": {},
   "outputs": [
    {
     "data": {
      "text/plain": [
       "Synset('dog.n.01')"
      ]
     },
     "execution_count": 12,
     "metadata": {},
     "output_type": "execute_result"
    }
   ],
   "source": [
    "wn.synset('dog.n.01')"
   ]
  },
  {
   "cell_type": "code",
   "execution_count": 13,
   "id": "fbe4f52d-c4ec-4c9c-9389-8bff7ca7d001",
   "metadata": {},
   "outputs": [
    {
     "data": {
      "text/plain": [
       "Synset('frump.n.01')"
      ]
     },
     "execution_count": 13,
     "metadata": {},
     "output_type": "execute_result"
    }
   ],
   "source": [
    "wn.synset('dog.n.02')"
   ]
  },
  {
   "cell_type": "code",
   "execution_count": 14,
   "id": "105fbedc-b527-472a-9b52-74998f5ff023",
   "metadata": {},
   "outputs": [
    {
     "data": {
      "text/plain": [
       "Synset('frump.n.01')"
      ]
     },
     "execution_count": 14,
     "metadata": {},
     "output_type": "execute_result"
    }
   ],
   "source": [
    "wn.synset('frump.n.01')"
   ]
  },
  {
   "cell_type": "code",
   "execution_count": 16,
   "id": "a4a39a69-ff26-4e8a-817d-1ab56bac6835",
   "metadata": {},
   "outputs": [
    {
     "data": {
      "text/plain": [
       "'a member of the genus Canis (probably descended from the common wolf) that has been domesticated by man since prehistoric times; occurs in many breeds'"
      ]
     },
     "execution_count": 16,
     "metadata": {},
     "output_type": "execute_result"
    }
   ],
   "source": [
    "wn.synset('dog.n.01').definition()"
   ]
  },
  {
   "cell_type": "code",
   "execution_count": 17,
   "id": "a1100d53-be2e-4fee-a6b1-74f7ba5f24b5",
   "metadata": {},
   "outputs": [
    {
     "data": {
      "text/plain": [
       "'a dull unattractive unpleasant girl or woman'"
      ]
     },
     "execution_count": 17,
     "metadata": {},
     "output_type": "execute_result"
    }
   ],
   "source": [
    "wn.synset('dog.n.02').definition()"
   ]
  },
  {
   "cell_type": "code",
   "execution_count": 21,
   "id": "6adda96b-fd31-4c75-923c-7df5b66c6970",
   "metadata": {},
   "outputs": [
    {
     "data": {
      "text/plain": [
       "[Lemma('dog.n.01.dog'),\n",
       " Lemma('dog.n.01.domestic_dog'),\n",
       " Lemma('dog.n.01.Canis_familiaris')]"
      ]
     },
     "execution_count": 21,
     "metadata": {},
     "output_type": "execute_result"
    }
   ],
   "source": [
    "wn.synset('dog.n.01').lemmas()"
   ]
  },
  {
   "cell_type": "code",
   "execution_count": 24,
   "id": "94011e77-c3c5-41bc-a1fb-835198ed27b4",
   "metadata": {},
   "outputs": [],
   "source": [
    "dog = wn.synset('dog.n.01')"
   ]
  },
  {
   "cell_type": "code",
   "execution_count": 25,
   "id": "1c0890e8-85df-4470-aed9-a9ebf5c85496",
   "metadata": {},
   "outputs": [
    {
     "data": {
      "text/plain": [
       "[Synset('canine.n.02'), Synset('domestic_animal.n.01')]"
      ]
     },
     "execution_count": 25,
     "metadata": {},
     "output_type": "execute_result"
    }
   ],
   "source": [
    "dog.hypernyms()"
   ]
  },
  {
   "cell_type": "code",
   "execution_count": 26,
   "id": "13a0bda0-8c66-4d52-a8ee-98d3628b625c",
   "metadata": {},
   "outputs": [
    {
     "data": {
      "text/plain": [
       "[Synset('basenji.n.01'),\n",
       " Synset('corgi.n.01'),\n",
       " Synset('cur.n.01'),\n",
       " Synset('dalmatian.n.02'),\n",
       " Synset('great_pyrenees.n.01'),\n",
       " Synset('griffon.n.02'),\n",
       " Synset('hunting_dog.n.01'),\n",
       " Synset('lapdog.n.01'),\n",
       " Synset('leonberg.n.01'),\n",
       " Synset('mexican_hairless.n.01'),\n",
       " Synset('newfoundland.n.01'),\n",
       " Synset('pooch.n.01'),\n",
       " Synset('poodle.n.01'),\n",
       " Synset('pug.n.01'),\n",
       " Synset('puppy.n.01'),\n",
       " Synset('spitz.n.01'),\n",
       " Synset('toy_dog.n.01'),\n",
       " Synset('working_dog.n.01')]"
      ]
     },
     "execution_count": 26,
     "metadata": {},
     "output_type": "execute_result"
    }
   ],
   "source": [
    "dog.hyponyms()"
   ]
  },
  {
   "cell_type": "code",
   "execution_count": 27,
   "id": "ba3bdef6-e9cc-433f-b347-4810cf28a594",
   "metadata": {},
   "outputs": [],
   "source": [
    "good = wn.synset('good.a.01')"
   ]
  },
  {
   "cell_type": "code",
   "execution_count": 29,
   "id": "bdb37745-f7b6-45f3-83c5-919ba5292ccc",
   "metadata": {},
   "outputs": [
    {
     "data": {
      "text/plain": [
       "[Lemma('good.a.01.good')]"
      ]
     },
     "execution_count": 29,
     "metadata": {},
     "output_type": "execute_result"
    }
   ],
   "source": [
    "good.lemmas()"
   ]
  },
  {
   "cell_type": "code",
   "execution_count": 30,
   "id": "4aec626c-7cdb-4e56-bc5c-e9387e6fff9d",
   "metadata": {},
   "outputs": [],
   "source": [
    "g0 = good.lemmas()[0]"
   ]
  },
  {
   "cell_type": "code",
   "execution_count": 31,
   "id": "48ee59e7-1001-453e-bfc4-e6ca32619180",
   "metadata": {},
   "outputs": [
    {
     "data": {
      "text/plain": [
       "[Lemma('bad.a.01.bad')]"
      ]
     },
     "execution_count": 31,
     "metadata": {},
     "output_type": "execute_result"
    }
   ],
   "source": [
    "g0.antonyms()"
   ]
  },
  {
   "cell_type": "code",
   "execution_count": 35,
   "id": "20356f0b-76fe-446a-a73e-050216733e61",
   "metadata": {},
   "outputs": [
    {
     "data": {
      "text/plain": [
       "[]"
      ]
     },
     "execution_count": 35,
     "metadata": {},
     "output_type": "execute_result"
    }
   ],
   "source": [
    "dog.member_meronyms()"
   ]
  },
  {
   "cell_type": "code",
   "execution_count": 36,
   "id": "e01c3845-9990-4d31-9ae1-28a4fe3cb33c",
   "metadata": {},
   "outputs": [
    {
     "data": {
      "text/plain": [
       "[Synset('flag.n.07')]"
      ]
     },
     "execution_count": 36,
     "metadata": {},
     "output_type": "execute_result"
    }
   ],
   "source": [
    "dog.part_meronyms()"
   ]
  },
  {
   "cell_type": "code",
   "execution_count": 37,
   "id": "b3541c87-d65d-40da-b078-0279e5e3f7e5",
   "metadata": {},
   "outputs": [
    {
     "data": {
      "text/plain": [
       "[]"
      ]
     },
     "execution_count": 37,
     "metadata": {},
     "output_type": "execute_result"
    }
   ],
   "source": [
    "dog.part_holonyms()"
   ]
  },
  {
   "cell_type": "code",
   "execution_count": 38,
   "id": "433ffe12-0e3c-47df-9c15-57644c565341",
   "metadata": {},
   "outputs": [
    {
     "data": {
      "text/plain": [
       "[Synset('canis.n.01'), Synset('pack.n.06')]"
      ]
     },
     "execution_count": 38,
     "metadata": {},
     "output_type": "execute_result"
    }
   ],
   "source": [
    "dog.member_holonyms()"
   ]
  },
  {
   "cell_type": "code",
   "execution_count": 39,
   "id": "4c3ae249-b320-48ba-94c2-136d71748afa",
   "metadata": {},
   "outputs": [],
   "source": [
    "from nltk.wsd import lesk"
   ]
  },
  {
   "cell_type": "code",
   "execution_count": 41,
   "id": "216ae2a5-4027-4f6e-b331-8034e9abfcbd",
   "metadata": {},
   "outputs": [],
   "source": [
    "from nltk import word_tokenize"
   ]
  },
  {
   "cell_type": "code",
   "execution_count": 42,
   "id": "9710615a-4b48-4c0b-896a-0e3e2f8bc714",
   "metadata": {},
   "outputs": [],
   "source": [
    "S = \"The bank can guarantee deposits will eventually cover future tuition costs because it invests in adjustable-rate mortgage securities.\""
   ]
  },
  {
   "cell_type": "code",
   "execution_count": 43,
   "id": "7397db96-d69d-4329-b436-06e8c0465ea2",
   "metadata": {},
   "outputs": [],
   "source": [
    "S_tok = word_tokenize(S)"
   ]
  },
  {
   "cell_type": "code",
   "execution_count": 46,
   "id": "cb1bcad6-b3f2-4f56-b5b3-da2a39879e57",
   "metadata": {},
   "outputs": [
    {
     "name": "stdout",
     "output_type": "stream",
     "text": [
      "Synset('bank.n.05')\n"
     ]
    }
   ],
   "source": [
    "print(lesk(S_tok, 'bank', 'n'))"
   ]
  },
  {
   "cell_type": "code",
   "execution_count": 49,
   "id": "8330620b-6526-4a02-8b3f-3112eafb1388",
   "metadata": {},
   "outputs": [],
   "source": [
    "l = word_tokenize((wn.synset('bank.n.05').definition()))"
   ]
  },
  {
   "cell_type": "code",
   "execution_count": 50,
   "id": "a8161105-02c2-4ef1-b168-6f46bf685a32",
   "metadata": {},
   "outputs": [],
   "source": [
    "m = word_tokenize((wn.synset('bank.n.02').definition()))"
   ]
  },
  {
   "cell_type": "code",
   "execution_count": 51,
   "id": "9d68f0e9-ef2f-45fc-9c82-c5e4e5a1320f",
   "metadata": {},
   "outputs": [],
   "source": [
    "k = set(S_tok)"
   ]
  },
  {
   "cell_type": "code",
   "execution_count": 52,
   "id": "f4301708-0dfd-41de-be61-f1bcae89b0d8",
   "metadata": {},
   "outputs": [
    {
     "data": {
      "text/plain": [
       "{'future', 'in'}"
      ]
     },
     "execution_count": 52,
     "metadata": {},
     "output_type": "execute_result"
    }
   ],
   "source": [
    "k.intersection(l)"
   ]
  },
  {
   "cell_type": "code",
   "execution_count": 53,
   "id": "dc28a3f9-8385-406b-907c-2d5f7b19ce25",
   "metadata": {},
   "outputs": [
    {
     "data": {
      "text/plain": [
       "{'deposits'}"
      ]
     },
     "execution_count": 53,
     "metadata": {},
     "output_type": "execute_result"
    }
   ],
   "source": [
    "k.intersection(m)"
   ]
  },
  {
   "cell_type": "code",
   "execution_count": 54,
   "id": "d60c4f78-79da-4831-b424-24d69314936e",
   "metadata": {},
   "outputs": [],
   "source": [
    "from nltk.stem import WordNetLemmatizer"
   ]
  },
  {
   "cell_type": "code",
   "execution_count": 55,
   "id": "a81cb9b0-9036-4735-b6e9-6850f9625200",
   "metadata": {},
   "outputs": [],
   "source": [
    "wnLemmatizer = WordNetLemmatizer()"
   ]
  },
  {
   "cell_type": "code",
   "execution_count": 57,
   "id": "a1a09282-f690-4a7d-919b-f02623520b58",
   "metadata": {},
   "outputs": [
    {
     "data": {
      "text/plain": [
       "'dog'"
      ]
     },
     "execution_count": 57,
     "metadata": {},
     "output_type": "execute_result"
    }
   ],
   "source": [
    "wnLemmatizer.lemmatize('dogs', 'n')"
   ]
  },
  {
   "cell_type": "code",
   "execution_count": 60,
   "id": "10fbe01b-347e-4615-ab16-180044d9d495",
   "metadata": {},
   "outputs": [
    {
     "data": {
      "text/plain": [
       "'walk'"
      ]
     },
     "execution_count": 60,
     "metadata": {},
     "output_type": "execute_result"
    }
   ],
   "source": [
    "wnLemmatizer.lemmatize('walking', 'v')"
   ]
  },
  {
   "cell_type": "code",
   "execution_count": 62,
   "id": "50160dab-eb34-4d98-a637-a0f25038a120",
   "metadata": {},
   "outputs": [
    {
     "data": {
      "text/plain": [
       "[('I', 'PRP'),\n",
       " ('went', 'VBD'),\n",
       " ('to', 'TO'),\n",
       " ('the', 'DT'),\n",
       " ('bank', 'NN'),\n",
       " ('to', 'TO'),\n",
       " ('deposit', 'VB'),\n",
       " ('some', 'DT'),\n",
       " ('money', 'NN'),\n",
       " ('.', '.')]"
      ]
     },
     "execution_count": 62,
     "metadata": {},
     "output_type": "execute_result"
    }
   ],
   "source": [
    "nltk.pos_tag(word_tokenize(\"I went to the bank to deposit some money.\"))"
   ]
  },
  {
   "cell_type": "code",
   "execution_count": 64,
   "id": "139e27a4-569b-40d5-a87e-2cabab8ca265",
   "metadata": {},
   "outputs": [
    {
     "data": {
      "text/plain": [
       "[('La', 'NNP'),\n",
       " ('rata', 'VBZ'),\n",
       " ('está', 'FW'),\n",
       " ('en', 'FW'),\n",
       " ('el', 'FW'),\n",
       " ('aula', 'NN'),\n",
       " ('.', '.')]"
      ]
     },
     "execution_count": 64,
     "metadata": {},
     "output_type": "execute_result"
    }
   ],
   "source": [
    "nltk.pos_tag(word_tokenize(\"La rata está en el aula.\"))"
   ]
  },
  {
   "cell_type": "code",
   "execution_count": null,
   "id": "e7603823-c6b7-4624-b608-51dd54ef8708",
   "metadata": {},
   "outputs": [],
   "source": []
  }
 ],
 "metadata": {
  "kernelspec": {
   "display_name": "Python (nlp-utn)",
   "language": "python",
   "name": "nlp-utn"
  },
  "language_info": {
   "codemirror_mode": {
    "name": "ipython",
    "version": 3
   },
   "file_extension": ".py",
   "mimetype": "text/x-python",
   "name": "python",
   "nbconvert_exporter": "python",
   "pygments_lexer": "ipython3",
   "version": "3.9.5"
  }
 },
 "nbformat": 4,
 "nbformat_minor": 5
}
